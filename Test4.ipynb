{
 "cells": [
  {
   "cell_type": "code",
   "execution_count": 1,
   "id": "b2b01e07-72e3-4783-acfa-e96432c60de2",
   "metadata": {},
   "outputs": [
    {
     "data": {
      "text/plain": [
       "(317636, 15)"
      ]
     },
     "execution_count": 1,
     "metadata": {},
     "output_type": "execute_result"
    }
   ],
   "source": [
    "import numpy as np\n",
    "import pandas as pd\n",
    "import matplotlib.pyplot as plt\n",
    "import seaborn as sns\n",
    "\n",
    "df = pd.read_csv(r'C:\\Users\\Lenovo\\Downloads\\car.csv')\n",
    "df.shape"
   ]
  },
  {
   "cell_type": "code",
   "execution_count": 2,
   "id": "ccf52d78-8f4d-42c6-9d45-1bc3c204bada",
   "metadata": {},
   "outputs": [],
   "source": [
    "df[\"model\"]=df[\"model\"].values.astype('str')\n",
    "df[\"origin\"]=df[\"origin\"].values.astype('str')\n",
    "df[\"brand\"]=df[\"brand\"].values.astype('str')\n",
    "df[\"gearbox\"]=df[\"gearbox\"].values.astype('str')\n",
    "df[\"type\"]=df[\"type\"].values.astype('str')\n",
    "df[\"fuel\"]=df[\"fuel\"].values.astype('str')\n",
    "df[\"condition\"]=df[\"condition\"].values.astype('str')"
   ]
  },
  {
   "cell_type": "code",
   "execution_count": 3,
   "id": "54831971-3a05-4a09-8a95-6af84d9669c8",
   "metadata": {},
   "outputs": [
    {
     "name": "stdout",
     "output_type": "stream",
     "text": [
      "<class 'pandas.core.frame.DataFrame'>\n",
      "Index: 178787 entries, 1 to 317635\n",
      "Data columns (total 15 columns):\n",
      " #   Column            Non-Null Count   Dtype  \n",
      "---  ------            --------------   -----  \n",
      " 0   id                178787 non-null  int64  \n",
      " 1   list_id           178787 non-null  int64  \n",
      " 2   list_time         178787 non-null  int64  \n",
      " 3   manufacture_date  178787 non-null  int64  \n",
      " 4   brand             178787 non-null  object \n",
      " 5   model             178787 non-null  object \n",
      " 6   origin            178787 non-null  object \n",
      " 7   type              178787 non-null  object \n",
      " 8   seats             178787 non-null  float64\n",
      " 9   gearbox           178787 non-null  object \n",
      " 10  fuel              178787 non-null  object \n",
      " 11  color             178787 non-null  object \n",
      " 12  mileage_v2        178787 non-null  int64  \n",
      " 13  price             178787 non-null  float64\n",
      " 14  condition         178787 non-null  object \n",
      "dtypes: float64(2), int64(5), object(8)\n",
      "memory usage: 21.8+ MB\n"
     ]
    }
   ],
   "source": [
    "df_used = df[df['condition'] == 'used']\n",
    "df_brand = df_used[df_used.brand.isin(['Toyota', 'Ford', 'Hyundai', 'Kia', 'Mitsubishi',\n",
    "                                      'Mercedes Benz', 'Mazda', 'Honda', 'Chevrolet', 'Vinfast',\n",
    "                                      'Suzuki', 'BMW', 'Nissan', 'Daewoo', 'Lexus', 'Peugeot', 'MG',\n",
    "                                      'Volkswagen', 'Audi', 'Isuzu', 'Porsche', 'LandRover'])]\n",
    "df_nonnull = df_brand.dropna(how = 'any', axis = 0)\n",
    "df_date = df_nonnull[df_nonnull['manufacture_date'] > 0]\n",
    "df_final = df_date[df_date['condition'] == 'used']\n",
    "df_final.info()"
   ]
  },
  {
   "cell_type": "code",
   "execution_count": 4,
   "id": "f9184fed-d0f7-4e37-b0b7-b920055ad6a7",
   "metadata": {},
   "outputs": [],
   "source": [
    "temp = pd.get_dummies(df_final, columns = ['brand', 'origin', 'type', 'gearbox', 'fuel', 'model', 'color'], dtype=int)\n",
    "inp = temp.drop(['id', 'list_id', 'list_time', 'condition'], axis = 1)\n",
    "\n",
    "X = inp.drop(['price'], axis = 1)\n",
    "y = inp['price']"
   ]
  },
  {
   "cell_type": "code",
   "execution_count": 5,
   "id": "5ace49bb-6342-438f-9f0d-fde6ebc55a3f",
   "metadata": {},
   "outputs": [],
   "source": [
    "from sklearn.model_selection import train_test_split\n",
    "X_train, X_test, y_train, y_test = train_test_split(X, y, train_size = 0.7, test_size = 0.3, random_state = 99)\n",
    "\n",
    "#inp.head(10)"
   ]
  },
  {
   "cell_type": "code",
   "execution_count": 6,
   "id": "7e877089-d218-4e27-84ec-aae720e71e78",
   "metadata": {},
   "outputs": [],
   "source": [
    "from sklearn.model_selection import GridSearchCV\n",
    "from sklearn.preprocessing import QuantileTransformer\n",
    "from sklearn.pipeline import Pipeline\n",
    "from sklearn.ensemble import RandomForestRegressor\n",
    "\n",
    "rfc = RandomForestRegressor(1000)\n",
    "pipe = Pipeline([\n",
    "    ('scale', QuantileTransformer()),\n",
    "    ('model', RandomForestRegressor(1000, n_jobs = -1))\n",
    "])"
   ]
  },
  {
   "cell_type": "code",
   "execution_count": 7,
   "id": "daa9ee84-ef4c-47a4-b79d-8b52a6cdd158",
   "metadata": {},
   "outputs": [],
   "source": [
    "model = GridSearchCV(estimator = pipe,\n",
    "                     param_grid = {'model__max_depth': [10,15,20,25,30]},\n",
    "                     cv = 3)"
   ]
  },
  {
   "cell_type": "code",
   "execution_count": null,
   "id": "c120f3dd-6770-4346-b838-6aa374d55d4d",
   "metadata": {},
   "outputs": [],
   "source": [
    "rfc.fit(X_train,y_train)"
   ]
  },
  {
   "cell_type": "code",
   "execution_count": null,
   "id": "af8780a4-8389-4338-9d1f-e4f63e562f35",
   "metadata": {},
   "outputs": [],
   "source": [
    "y_pred = rfc.predict(X_test)"
   ]
  },
  {
   "cell_type": "code",
   "execution_count": null,
   "id": "2de087f9-c4fe-489d-8d4d-57d80abd8563",
   "metadata": {},
   "outputs": [],
   "source": [
    "rfc.score(X_test, y_test)"
   ]
  },
  {
   "cell_type": "code",
   "execution_count": null,
   "id": "cee150e8-aa26-4ee3-8299-c28f60aec779",
   "metadata": {},
   "outputs": [],
   "source": [
    "from sklearn.metrics import mean_absolute_error"
   ]
  },
  {
   "cell_type": "code",
   "execution_count": null,
   "id": "feb8a777-bf1e-4909-b263-d8a643ab0bdd",
   "metadata": {},
   "outputs": [],
   "source": []
  }
 ],
 "metadata": {
  "kernelspec": {
   "display_name": "Python 3 (ipykernel)",
   "language": "python",
   "name": "python3"
  },
  "language_info": {
   "codemirror_mode": {
    "name": "ipython",
    "version": 3
   },
   "file_extension": ".py",
   "mimetype": "text/x-python",
   "name": "python",
   "nbconvert_exporter": "python",
   "pygments_lexer": "ipython3",
   "version": "3.11.6"
  }
 },
 "nbformat": 4,
 "nbformat_minor": 5
}
