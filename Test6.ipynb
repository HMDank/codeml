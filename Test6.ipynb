{
 "cells": [
  {
   "cell_type": "code",
   "execution_count": 1,
   "id": "b2b01e07-72e3-4783-acfa-e96432c60de2",
   "metadata": {},
   "outputs": [],
   "source": [
    "import numpy as np\n",
    "import pandas as pd\n",
    "import matplotlib.pyplot as plt\n",
    "import seaborn as sns\n",
    "\n",
    "df = pd.read_csv(r'C:\\Users\\Lenovo\\Downloads\\car.csv')\n",
    "#df.shape"
   ]
  },
  {
   "cell_type": "code",
   "execution_count": 2,
   "id": "ccf52d78-8f4d-42c6-9d45-1bc3c204bada",
   "metadata": {},
   "outputs": [],
   "source": [
    "df[\"model\"]=df[\"model\"].values.astype('str')\n",
    "df[\"origin\"]=df[\"origin\"].values.astype('str')\n",
    "df[\"brand\"]=df[\"brand\"].values.astype('str')\n",
    "df[\"gearbox\"]=df[\"gearbox\"].values.astype('str')\n",
    "df[\"type\"]=df[\"type\"].values.astype('str')\n",
    "df[\"fuel\"]=df[\"fuel\"].values.astype('str')\n",
    "df[\"condition\"]=df[\"condition\"].values.astype('str')\n",
    "\n",
    "df_new = df.drop_duplicates()"
   ]
  },
  {
   "cell_type": "code",
   "execution_count": 3,
   "id": "c9cc210f-819e-4d33-974b-9d993ea78197",
   "metadata": {},
   "outputs": [
    {
     "data": {
      "text/plain": [
       "(34771, 15)"
      ]
     },
     "execution_count": 3,
     "metadata": {},
     "output_type": "execute_result"
    }
   ],
   "source": [
    "df_used = df_new[df_new['condition'] == 'used']\n",
    "df_brand = df_used[df_used.brand.isin(['Toyota', 'Ford', 'Kia', 'Huyndai', 'Mitsubishi',\n",
    "                                      'Mercedes Benz', 'Mazda', 'Honda', 'Chevrolet', 'Vinfast',\n",
    "                                      'Suzuki', 'BMW', 'Nissan', 'Daewoo', 'Lexus', 'Peugeot',\n",
    "                                      'Volkswagen', 'Audi', 'Isuzu', 'Porsche'])]\n",
    "df_nonnull = df_brand.dropna(how = 'any', axis = 0)\n",
    "df_date = df_nonnull[df_nonnull['manufacture_date'] > 0]\n",
    "df_odo = df_date[df_nonnull['mileage_v2'] > 20]\n",
    "df_final = df_date[df_date['condition'] == 'used']\n",
    "df_end = df_final[df_final['type'].str.contains(\"nan\") == False]\n",
    "df_end = df_end[df_end['origin'].str.contains(\"nan\") == False]\n",
    "df_end = df_end[df_end['gearbox'].str.contains(\"nan\") == False]\n",
    "df_end = df_end[df_end['model'].str.contains(\"nan\") == False]\n",
    "df_end = df_end[df_end['model'].str.contains(\"Dòng khác\") == False]\n",
    "df_end.shape"
   ]
  },
  {
   "cell_type": "code",
   "execution_count": 4,
   "id": "f9184fed-d0f7-4e37-b0b7-b920055ad6a7",
   "metadata": {},
   "outputs": [],
   "source": [
    "from sklearn.preprocessing import LabelEncoder\n",
    "le = LabelEncoder()\n",
    "\n",
    "df_end['brand'] = le.fit_transform(df_end['brand'])\n",
    "df_end['origin'] = le.fit_transform(df_end['origin'])\n",
    "df_end['type'] = le.fit_transform(df_end['type'])\n",
    "df_end['gearbox'] = le.fit_transform(df_end['gearbox'])\n",
    "df_end['fuel'] = le.fit_transform(df_end['fuel'])\n",
    "df_end['model'] = le.fit_transform(df_end['model'])\n",
    "\n",
    "temp = pd.get_dummies(df_end, columns = ['model'], dtype=int)\n",
    "inp = temp.drop(['id', 'list_id', 'list_time', 'condition', 'color'], axis = 1)\n",
    "\n",
    "X = inp.drop(['price'], axis = 1)\n",
    "y = inp['price']"
   ]
  },
  {
   "cell_type": "code",
   "execution_count": 5,
   "id": "5ace49bb-6342-438f-9f0d-fde6ebc55a3f",
   "metadata": {},
   "outputs": [],
   "source": [
    "from sklearn.model_selection import train_test_split\n",
    "X_train, X_test, y_train, y_test = train_test_split(X, y, train_size = 0.7, test_size = 0.3, random_state = 99)\n",
    "\n",
    "#inp.head(10)"
   ]
  },
  {
   "cell_type": "code",
   "execution_count": 6,
   "id": "7e877089-d218-4e27-84ec-aae720e71e78",
   "metadata": {},
   "outputs": [],
   "source": [
    "from sklearn.model_selection import GridSearchCV\n",
    "from sklearn.preprocessing import QuantileTransformer\n",
    "from sklearn.pipeline import Pipeline\n",
    "from sklearn.ensemble import RandomForestRegressor\n",
    "\n",
    "rfc = RandomForestRegressor(n_estimators= 1000, n_jobs = 7)"
   ]
  },
  {
   "cell_type": "code",
   "execution_count": 7,
   "id": "c120f3dd-6770-4346-b838-6aa374d55d4d",
   "metadata": {},
   "outputs": [
    {
     "data": {
      "text/html": [
       "<style>#sk-container-id-1 {color: black;}#sk-container-id-1 pre{padding: 0;}#sk-container-id-1 div.sk-toggleable {background-color: white;}#sk-container-id-1 label.sk-toggleable__label {cursor: pointer;display: block;width: 100%;margin-bottom: 0;padding: 0.3em;box-sizing: border-box;text-align: center;}#sk-container-id-1 label.sk-toggleable__label-arrow:before {content: \"▸\";float: left;margin-right: 0.25em;color: #696969;}#sk-container-id-1 label.sk-toggleable__label-arrow:hover:before {color: black;}#sk-container-id-1 div.sk-estimator:hover label.sk-toggleable__label-arrow:before {color: black;}#sk-container-id-1 div.sk-toggleable__content {max-height: 0;max-width: 0;overflow: hidden;text-align: left;background-color: #f0f8ff;}#sk-container-id-1 div.sk-toggleable__content pre {margin: 0.2em;color: black;border-radius: 0.25em;background-color: #f0f8ff;}#sk-container-id-1 input.sk-toggleable__control:checked~div.sk-toggleable__content {max-height: 200px;max-width: 100%;overflow: auto;}#sk-container-id-1 input.sk-toggleable__control:checked~label.sk-toggleable__label-arrow:before {content: \"▾\";}#sk-container-id-1 div.sk-estimator input.sk-toggleable__control:checked~label.sk-toggleable__label {background-color: #d4ebff;}#sk-container-id-1 div.sk-label input.sk-toggleable__control:checked~label.sk-toggleable__label {background-color: #d4ebff;}#sk-container-id-1 input.sk-hidden--visually {border: 0;clip: rect(1px 1px 1px 1px);clip: rect(1px, 1px, 1px, 1px);height: 1px;margin: -1px;overflow: hidden;padding: 0;position: absolute;width: 1px;}#sk-container-id-1 div.sk-estimator {font-family: monospace;background-color: #f0f8ff;border: 1px dotted black;border-radius: 0.25em;box-sizing: border-box;margin-bottom: 0.5em;}#sk-container-id-1 div.sk-estimator:hover {background-color: #d4ebff;}#sk-container-id-1 div.sk-parallel-item::after {content: \"\";width: 100%;border-bottom: 1px solid gray;flex-grow: 1;}#sk-container-id-1 div.sk-label:hover label.sk-toggleable__label {background-color: #d4ebff;}#sk-container-id-1 div.sk-serial::before {content: \"\";position: absolute;border-left: 1px solid gray;box-sizing: border-box;top: 0;bottom: 0;left: 50%;z-index: 0;}#sk-container-id-1 div.sk-serial {display: flex;flex-direction: column;align-items: center;background-color: white;padding-right: 0.2em;padding-left: 0.2em;position: relative;}#sk-container-id-1 div.sk-item {position: relative;z-index: 1;}#sk-container-id-1 div.sk-parallel {display: flex;align-items: stretch;justify-content: center;background-color: white;position: relative;}#sk-container-id-1 div.sk-item::before, #sk-container-id-1 div.sk-parallel-item::before {content: \"\";position: absolute;border-left: 1px solid gray;box-sizing: border-box;top: 0;bottom: 0;left: 50%;z-index: -1;}#sk-container-id-1 div.sk-parallel-item {display: flex;flex-direction: column;z-index: 1;position: relative;background-color: white;}#sk-container-id-1 div.sk-parallel-item:first-child::after {align-self: flex-end;width: 50%;}#sk-container-id-1 div.sk-parallel-item:last-child::after {align-self: flex-start;width: 50%;}#sk-container-id-1 div.sk-parallel-item:only-child::after {width: 0;}#sk-container-id-1 div.sk-dashed-wrapped {border: 1px dashed gray;margin: 0 0.4em 0.5em 0.4em;box-sizing: border-box;padding-bottom: 0.4em;background-color: white;}#sk-container-id-1 div.sk-label label {font-family: monospace;font-weight: bold;display: inline-block;line-height: 1.2em;}#sk-container-id-1 div.sk-label-container {text-align: center;}#sk-container-id-1 div.sk-container {/* jupyter's `normalize.less` sets `[hidden] { display: none; }` but bootstrap.min.css set `[hidden] { display: none !important; }` so we also need the `!important` here to be able to override the default hidden behavior on the sphinx rendered scikit-learn.org. See: https://github.com/scikit-learn/scikit-learn/issues/21755 */display: inline-block !important;position: relative;}#sk-container-id-1 div.sk-text-repr-fallback {display: none;}</style><div id=\"sk-container-id-1\" class=\"sk-top-container\"><div class=\"sk-text-repr-fallback\"><pre>RandomForestRegressor(n_estimators=1000, n_jobs=7)</pre><b>In a Jupyter environment, please rerun this cell to show the HTML representation or trust the notebook. <br />On GitHub, the HTML representation is unable to render, please try loading this page with nbviewer.org.</b></div><div class=\"sk-container\" hidden><div class=\"sk-item\"><div class=\"sk-estimator sk-toggleable\"><input class=\"sk-toggleable__control sk-hidden--visually\" id=\"sk-estimator-id-1\" type=\"checkbox\" checked><label for=\"sk-estimator-id-1\" class=\"sk-toggleable__label sk-toggleable__label-arrow\">RandomForestRegressor</label><div class=\"sk-toggleable__content\"><pre>RandomForestRegressor(n_estimators=1000, n_jobs=7)</pre></div></div></div></div></div>"
      ],
      "text/plain": [
       "RandomForestRegressor(n_estimators=1000, n_jobs=7)"
      ]
     },
     "execution_count": 7,
     "metadata": {},
     "output_type": "execute_result"
    }
   ],
   "source": [
    "rfc.fit(X_train,y_train)"
   ]
  },
  {
   "cell_type": "code",
   "execution_count": 8,
   "id": "af8780a4-8389-4338-9d1f-e4f63e562f35",
   "metadata": {},
   "outputs": [],
   "source": [
    "y_pred = rfc.predict(X_test)"
   ]
  },
  {
   "cell_type": "code",
   "execution_count": 9,
   "id": "cee150e8-aa26-4ee3-8299-c28f60aec779",
   "metadata": {},
   "outputs": [
    {
     "data": {
      "text/plain": [
       "33475806.691578027"
      ]
     },
     "execution_count": 9,
     "metadata": {},
     "output_type": "execute_result"
    }
   ],
   "source": [
    "from sklearn.metrics import mean_absolute_error\n",
    "rate = mean_absolute_error(y_test, y_pred)\n",
    "rate"
   ]
  },
  {
   "cell_type": "code",
   "execution_count": 10,
   "id": "b4069ffb-7abc-44e6-943c-aad06367c475",
   "metadata": {},
   "outputs": [
    {
     "data": {
      "text/plain": [
       "73.39915644171779"
      ]
     },
     "execution_count": 10,
     "metadata": {},
     "output_type": "execute_result"
    }
   ],
   "source": [
    "control = (np.divide(y_test,y_pred) - 1)*100\n",
    "tem = ((-5 < control) & (control < 5)).sum()\n",
    "per = tem/(len(control))*100\n",
    "per"
   ]
  },
  {
   "cell_type": "code",
   "execution_count": null,
   "metadata": {},
   "outputs": [],
   "source": []
  }
 ],
 "metadata": {
  "kernelspec": {
   "display_name": "Python 3 (ipykernel)",
   "language": "python",
   "name": "python3"
  },
  "language_info": {
   "codemirror_mode": {
    "name": "ipython",
    "version": 3
   },
   "file_extension": ".py",
   "mimetype": "text/x-python",
   "name": "python",
   "nbconvert_exporter": "python",
   "pygments_lexer": "ipython3",
   "version": "3.11.6"
  }
 },
 "nbformat": 4,
 "nbformat_minor": 5
}
